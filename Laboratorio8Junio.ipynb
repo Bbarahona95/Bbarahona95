{
  "nbformat": 4,
  "nbformat_minor": 0,
  "metadata": {
    "colab": {
      "name": "Laboratorio8Junio.ipynb",
      "provenance": [],
      "authorship_tag": "ABX9TyNm6tumjRaLzsihcNxZ2h8A",
      "include_colab_link": true
    },
    "kernelspec": {
      "name": "python3",
      "display_name": "Python 3"
    },
    "language_info": {
      "name": "python"
    }
  },
  "cells": [
    {
      "cell_type": "markdown",
      "metadata": {
        "id": "view-in-github",
        "colab_type": "text"
      },
      "source": [
        "<a href=\"https://colab.research.google.com/github/Bbarahona95/Bbarahona95/blob/main/Laboratorio8Junio.ipynb\" target=\"_parent\"><img src=\"https://colab.research.google.com/assets/colab-badge.svg\" alt=\"Open In Colab\"/></a>"
      ]
    },
    {
      "cell_type": "markdown",
      "source": [
        "Laboratorio inicial de uso de Colab"
      ],
      "metadata": {
        "id": "GIsZZAD8BK-X"
      }
    },
    {
      "cell_type": "markdown",
      "source": [
        "Benjamin Barahona Valverde"
      ],
      "metadata": {
        "id": "pofsUfvFBHFa"
      }
    },
    {
      "cell_type": "code",
      "source": [
        "import pandas as pd\n",
        "\n",
        "from google.colab import auth\n",
        "auth.authenticate_user()\n",
        "\n",
        "import gspread\n",
        "from google.auth import default\n",
        "creds, _ = default()\n",
        "\n",
        "gc=gspread.authorize(creds)\n",
        "sh=gc.create('BenjaminBarahona')\n"
      ],
      "metadata": {
        "id": "5VBLQzy4BT3N"
      },
      "execution_count": 8,
      "outputs": []
    },
    {
      "cell_type": "code",
      "source": [
        "worksheet= gc.open('BenjaminBarahona').sheet1\n",
        "\n",
        "cell_list= worksheet.range('A1:G14')\n",
        " \n",
        "import random\n",
        "\n",
        "for cell in cell_list:\n",
        "  cell.value=random.randint(1,100)\n",
        "\n",
        "worksheet.update_cells(cell_list)\n"
      ],
      "metadata": {
        "id": "I61XlvMdEg-H",
        "outputId": "621fa6b7-7deb-4ceb-d0aa-10a5909e3581",
        "colab": {
          "base_uri": "https://localhost:8080/"
        }
      },
      "execution_count": 12,
      "outputs": [
        {
          "output_type": "execute_result",
          "data": {
            "text/plain": [
              "{'spreadsheetId': '16_r4NWkwYDKnG4F-WNBnFsQdT-I1VvkHIm4sIO2M9dY',\n",
              " 'updatedCells': 98,\n",
              " 'updatedColumns': 7,\n",
              " 'updatedRange': \"'Hoja 1'!A1:G14\",\n",
              " 'updatedRows': 14}"
            ]
          },
          "metadata": {},
          "execution_count": 12
        }
      ]
    },
    {
      "cell_type": "code",
      "source": [
        "worksheet = gc.open('BenjaminBarahona').sheet1\n",
        "rows=worksheet.get_all_values()\n",
        "print(rows)"
      ],
      "metadata": {
        "id": "-xlxnqbaHxvD",
        "outputId": "fd9a4282-a5b1-497b-f351-eb1a2c78ef35",
        "colab": {
          "base_uri": "https://localhost:8080/"
        }
      },
      "execution_count": 13,
      "outputs": [
        {
          "output_type": "stream",
          "name": "stdout",
          "text": [
            "[['73', '8', '57', '32', '56', '51', '24'], ['31', '85', '54', '59', '7', '56', '76'], ['18', '27', '79', '46', '25', '49', '31'], ['91', '78', '100', '100', '97', '56', '33'], ['65', '51', '4', '82', '95', '75', '16'], ['73', '70', '52', '42', '26', '26', '70'], ['53', '95', '38', '82', '60', '14', '38'], ['31', '53', '86', '23', '16', '67', '45'], ['22', '98', '64', '6', '89', '20', '60'], ['40', '53', '92', '92', '80', '49', '30'], ['95', '49', '50', '72', '75', '74', '23'], ['30', '32', '70', '93', '8', '73', '25'], ['11', '63', '51', '28', '43', '16', '77'], ['80', '8', '40', '95', '21', '96', '57']]\n"
          ]
        }
      ]
    }
  ]
}